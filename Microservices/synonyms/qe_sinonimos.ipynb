{
 "nbformat": 4,
 "nbformat_minor": 0,
 "metadata": {
  "colab": {
   "provenance": []
  },
  "kernelspec": {
   "name": "python3",
   "language": "python",
   "display_name": "Python 3 (ipykernel)"
  },
  "language_info": {
   "name": "python"
  }
 },
 "cells": [
  {
   "cell_type": "markdown",
   "source": [],
   "metadata": {
    "id": "lls5t_T6VG2W"
   }
  },
  {
   "cell_type": "code",
   "source": [
    "pip install spacy"
   ],
   "metadata": {
    "id": "eP6lf4g0gM37",
    "colab": {
     "base_uri": "https://localhost:8080/"
    },
    "executionInfo": {
     "status": "ok",
     "timestamp": 1696004365548,
     "user_tz": 180,
     "elapsed": 4391,
     "user": {
      "displayName": "Rafael Araujo Tetzner",
      "userId": "13213940784905816753"
     }
    },
    "outputId": "d8032f6a-cc88-4b8d-b5f5-8c8a11a06bef",
    "ExecuteTime": {
     "end_time": "2023-11-04T03:08:37.095190004Z",
     "start_time": "2023-11-04T03:08:35.539499852Z"
    }
   },
   "execution_count": 9,
   "outputs": [
    {
     "name": "stdout",
     "output_type": "stream",
     "text": [
      "Requirement already satisfied: spacy in ./venv/lib/python3.10/site-packages (3.7.2)\r\n",
      "Requirement already satisfied: tqdm<5.0.0,>=4.38.0 in ./venv/lib/python3.10/site-packages (from spacy) (4.66.1)\r\n",
      "Requirement already satisfied: murmurhash<1.1.0,>=0.28.0 in ./venv/lib/python3.10/site-packages (from spacy) (1.0.10)\r\n",
      "Requirement already satisfied: srsly<3.0.0,>=2.4.3 in ./venv/lib/python3.10/site-packages (from spacy) (2.4.8)\r\n",
      "Requirement already satisfied: weasel<0.4.0,>=0.1.0 in ./venv/lib/python3.10/site-packages (from spacy) (0.3.3)\r\n",
      "Requirement already satisfied: spacy-loggers<2.0.0,>=1.0.0 in ./venv/lib/python3.10/site-packages (from spacy) (1.0.5)\r\n",
      "Requirement already satisfied: cymem<2.1.0,>=2.0.2 in ./venv/lib/python3.10/site-packages (from spacy) (2.0.8)\r\n",
      "Requirement already satisfied: wasabi<1.2.0,>=0.9.1 in ./venv/lib/python3.10/site-packages (from spacy) (1.1.2)\r\n",
      "Requirement already satisfied: requests<3.0.0,>=2.13.0 in ./venv/lib/python3.10/site-packages (from spacy) (2.31.0)\r\n",
      "Requirement already satisfied: jinja2 in ./venv/lib/python3.10/site-packages (from spacy) (3.1.2)\r\n",
      "Requirement already satisfied: langcodes<4.0.0,>=3.2.0 in ./venv/lib/python3.10/site-packages (from spacy) (3.3.0)\r\n",
      "Requirement already satisfied: preshed<3.1.0,>=3.0.2 in ./venv/lib/python3.10/site-packages (from spacy) (3.0.9)\r\n",
      "Requirement already satisfied: setuptools in ./venv/lib/python3.10/site-packages (from spacy) (59.6.0)\r\n",
      "Requirement already satisfied: thinc<8.3.0,>=8.1.8 in ./venv/lib/python3.10/site-packages (from spacy) (8.2.1)\r\n",
      "Requirement already satisfied: packaging>=20.0 in ./venv/lib/python3.10/site-packages (from spacy) (23.2)\r\n",
      "Requirement already satisfied: catalogue<2.1.0,>=2.0.6 in ./venv/lib/python3.10/site-packages (from spacy) (2.0.10)\r\n",
      "Requirement already satisfied: smart-open<7.0.0,>=5.2.1 in ./venv/lib/python3.10/site-packages (from spacy) (6.4.0)\r\n",
      "Requirement already satisfied: typer<0.10.0,>=0.3.0 in ./venv/lib/python3.10/site-packages (from spacy) (0.9.0)\r\n",
      "Requirement already satisfied: spacy-legacy<3.1.0,>=3.0.11 in ./venv/lib/python3.10/site-packages (from spacy) (3.0.12)\r\n",
      "Requirement already satisfied: numpy>=1.19.0 in ./venv/lib/python3.10/site-packages (from spacy) (1.26.1)\r\n",
      "Requirement already satisfied: pydantic!=1.8,!=1.8.1,<3.0.0,>=1.7.4 in ./venv/lib/python3.10/site-packages (from spacy) (2.4.2)\r\n",
      "Requirement already satisfied: annotated-types>=0.4.0 in ./venv/lib/python3.10/site-packages (from pydantic!=1.8,!=1.8.1,<3.0.0,>=1.7.4->spacy) (0.6.0)\r\n",
      "Requirement already satisfied: pydantic-core==2.10.1 in ./venv/lib/python3.10/site-packages (from pydantic!=1.8,!=1.8.1,<3.0.0,>=1.7.4->spacy) (2.10.1)\r\n",
      "Requirement already satisfied: typing-extensions>=4.6.1 in ./venv/lib/python3.10/site-packages (from pydantic!=1.8,!=1.8.1,<3.0.0,>=1.7.4->spacy) (4.8.0)\r\n",
      "Requirement already satisfied: idna<4,>=2.5 in ./venv/lib/python3.10/site-packages (from requests<3.0.0,>=2.13.0->spacy) (3.4)\r\n",
      "Requirement already satisfied: charset-normalizer<4,>=2 in ./venv/lib/python3.10/site-packages (from requests<3.0.0,>=2.13.0->spacy) (3.3.0)\r\n",
      "Requirement already satisfied: urllib3<3,>=1.21.1 in ./venv/lib/python3.10/site-packages (from requests<3.0.0,>=2.13.0->spacy) (2.0.7)\r\n",
      "Requirement already satisfied: certifi>=2017.4.17 in ./venv/lib/python3.10/site-packages (from requests<3.0.0,>=2.13.0->spacy) (2023.7.22)\r\n",
      "Requirement already satisfied: blis<0.8.0,>=0.7.8 in ./venv/lib/python3.10/site-packages (from thinc<8.3.0,>=8.1.8->spacy) (0.7.11)\r\n",
      "Requirement already satisfied: confection<1.0.0,>=0.0.1 in ./venv/lib/python3.10/site-packages (from thinc<8.3.0,>=8.1.8->spacy) (0.1.3)\r\n",
      "Requirement already satisfied: click<9.0.0,>=7.1.1 in ./venv/lib/python3.10/site-packages (from typer<0.10.0,>=0.3.0->spacy) (8.1.7)\r\n",
      "Requirement already satisfied: cloudpathlib<0.17.0,>=0.7.0 in ./venv/lib/python3.10/site-packages (from weasel<0.4.0,>=0.1.0->spacy) (0.16.0)\r\n",
      "Requirement already satisfied: MarkupSafe>=2.0 in ./venv/lib/python3.10/site-packages (from jinja2->spacy) (2.1.3)\r\n",
      "Note: you may need to restart the kernel to use updated packages.\n"
     ]
    }
   ]
  },
  {
   "cell_type": "code",
   "execution_count": 10,
   "outputs": [
    {
     "name": "stdout",
     "output_type": "stream",
     "text": [
      "Requirement already satisfied: nltk in ./venv/lib/python3.10/site-packages (3.5)\r\n",
      "Requirement already satisfied: click in ./venv/lib/python3.10/site-packages (from nltk) (8.1.7)\r\n",
      "Requirement already satisfied: joblib in ./venv/lib/python3.10/site-packages (from nltk) (1.3.2)\r\n",
      "Requirement already satisfied: regex in ./venv/lib/python3.10/site-packages (from nltk) (2023.10.3)\r\n",
      "Requirement already satisfied: tqdm in ./venv/lib/python3.10/site-packages (from nltk) (4.66.1)\r\n",
      "Note: you may need to restart the kernel to use updated packages.\n"
     ]
    }
   ],
   "source": [
    "pip install nltk"
   ],
   "metadata": {
    "collapsed": false,
    "ExecuteTime": {
     "end_time": "2023-11-04T03:08:38.489496659Z",
     "start_time": "2023-11-04T03:08:37.094157603Z"
    }
   }
  },
  {
   "cell_type": "code",
   "source": [
    "import spacy.cli\n",
    "import nltk\n",
    "\n",
    "spacy.cli.download(\"pt_core_news_sm\")\n",
    "# nltk.download('omw-1.4')\n",
    "nltk.download('omw')"
   ],
   "metadata": {
    "id": "ZYiCrjfClEOq",
    "colab": {
     "base_uri": "https://localhost:8080/"
    },
    "executionInfo": {
     "status": "ok",
     "timestamp": 1696004370884,
     "user_tz": 180,
     "elapsed": 5345,
     "user": {
      "displayName": "Rafael Araujo Tetzner",
      "userId": "13213940784905816753"
     }
    },
    "outputId": "62fd3166-659d-41a5-88a4-b7f3fac2c04a",
    "ExecuteTime": {
     "end_time": "2023-11-04T03:11:01.498020703Z",
     "start_time": "2023-11-04T03:10:56.157294498Z"
    }
   },
   "execution_count": 28,
   "outputs": [
    {
     "name": "stdout",
     "output_type": "stream",
     "text": [
      "Collecting pt-core-news-sm==3.7.0\n",
      "  Downloading https://github.com/explosion/spacy-models/releases/download/pt_core_news_sm-3.7.0/pt_core_news_sm-3.7.0-py3-none-any.whl (13.0 MB)\n",
      "     ━━━━━━━━━━━━━━━━━━━━━━━━━━━━━━━━━━━━━━━━ 13.0/13.0 MB 9.7 MB/s eta 0:00:00\n",
      "Requirement already satisfied: spacy<3.8.0,>=3.7.0 in ./venv/lib/python3.10/site-packages (from pt-core-news-sm==3.7.0) (3.7.2)\n",
      "Requirement already satisfied: langcodes<4.0.0,>=3.2.0 in ./venv/lib/python3.10/site-packages (from spacy<3.8.0,>=3.7.0->pt-core-news-sm==3.7.0) (3.3.0)\n",
      "Requirement already satisfied: murmurhash<1.1.0,>=0.28.0 in ./venv/lib/python3.10/site-packages (from spacy<3.8.0,>=3.7.0->pt-core-news-sm==3.7.0) (1.0.10)\n",
      "Requirement already satisfied: srsly<3.0.0,>=2.4.3 in ./venv/lib/python3.10/site-packages (from spacy<3.8.0,>=3.7.0->pt-core-news-sm==3.7.0) (2.4.8)\n",
      "Requirement already satisfied: packaging>=20.0 in ./venv/lib/python3.10/site-packages (from spacy<3.8.0,>=3.7.0->pt-core-news-sm==3.7.0) (23.2)\n",
      "Requirement already satisfied: preshed<3.1.0,>=3.0.2 in ./venv/lib/python3.10/site-packages (from spacy<3.8.0,>=3.7.0->pt-core-news-sm==3.7.0) (3.0.9)\n",
      "Requirement already satisfied: catalogue<2.1.0,>=2.0.6 in ./venv/lib/python3.10/site-packages (from spacy<3.8.0,>=3.7.0->pt-core-news-sm==3.7.0) (2.0.10)\n",
      "Requirement already satisfied: pydantic!=1.8,!=1.8.1,<3.0.0,>=1.7.4 in ./venv/lib/python3.10/site-packages (from spacy<3.8.0,>=3.7.0->pt-core-news-sm==3.7.0) (2.4.2)\n",
      "Requirement already satisfied: jinja2 in ./venv/lib/python3.10/site-packages (from spacy<3.8.0,>=3.7.0->pt-core-news-sm==3.7.0) (3.1.2)\n",
      "Requirement already satisfied: wasabi<1.2.0,>=0.9.1 in ./venv/lib/python3.10/site-packages (from spacy<3.8.0,>=3.7.0->pt-core-news-sm==3.7.0) (1.1.2)\n",
      "Requirement already satisfied: numpy>=1.19.0 in ./venv/lib/python3.10/site-packages (from spacy<3.8.0,>=3.7.0->pt-core-news-sm==3.7.0) (1.26.1)\n",
      "Requirement already satisfied: typer<0.10.0,>=0.3.0 in ./venv/lib/python3.10/site-packages (from spacy<3.8.0,>=3.7.0->pt-core-news-sm==3.7.0) (0.9.0)\n",
      "Requirement already satisfied: weasel<0.4.0,>=0.1.0 in ./venv/lib/python3.10/site-packages (from spacy<3.8.0,>=3.7.0->pt-core-news-sm==3.7.0) (0.3.3)\n",
      "Requirement already satisfied: cymem<2.1.0,>=2.0.2 in ./venv/lib/python3.10/site-packages (from spacy<3.8.0,>=3.7.0->pt-core-news-sm==3.7.0) (2.0.8)\n",
      "Requirement already satisfied: requests<3.0.0,>=2.13.0 in ./venv/lib/python3.10/site-packages (from spacy<3.8.0,>=3.7.0->pt-core-news-sm==3.7.0) (2.31.0)\n",
      "Requirement already satisfied: spacy-loggers<2.0.0,>=1.0.0 in ./venv/lib/python3.10/site-packages (from spacy<3.8.0,>=3.7.0->pt-core-news-sm==3.7.0) (1.0.5)\n",
      "Requirement already satisfied: tqdm<5.0.0,>=4.38.0 in ./venv/lib/python3.10/site-packages (from spacy<3.8.0,>=3.7.0->pt-core-news-sm==3.7.0) (4.66.1)\n",
      "Requirement already satisfied: thinc<8.3.0,>=8.1.8 in ./venv/lib/python3.10/site-packages (from spacy<3.8.0,>=3.7.0->pt-core-news-sm==3.7.0) (8.2.1)\n",
      "Requirement already satisfied: spacy-legacy<3.1.0,>=3.0.11 in ./venv/lib/python3.10/site-packages (from spacy<3.8.0,>=3.7.0->pt-core-news-sm==3.7.0) (3.0.12)\n",
      "Requirement already satisfied: smart-open<7.0.0,>=5.2.1 in ./venv/lib/python3.10/site-packages (from spacy<3.8.0,>=3.7.0->pt-core-news-sm==3.7.0) (6.4.0)\n",
      "Requirement already satisfied: setuptools in ./venv/lib/python3.10/site-packages (from spacy<3.8.0,>=3.7.0->pt-core-news-sm==3.7.0) (59.6.0)\n",
      "Requirement already satisfied: pydantic-core==2.10.1 in ./venv/lib/python3.10/site-packages (from pydantic!=1.8,!=1.8.1,<3.0.0,>=1.7.4->spacy<3.8.0,>=3.7.0->pt-core-news-sm==3.7.0) (2.10.1)\n",
      "Requirement already satisfied: annotated-types>=0.4.0 in ./venv/lib/python3.10/site-packages (from pydantic!=1.8,!=1.8.1,<3.0.0,>=1.7.4->spacy<3.8.0,>=3.7.0->pt-core-news-sm==3.7.0) (0.6.0)\n",
      "Requirement already satisfied: typing-extensions>=4.6.1 in ./venv/lib/python3.10/site-packages (from pydantic!=1.8,!=1.8.1,<3.0.0,>=1.7.4->spacy<3.8.0,>=3.7.0->pt-core-news-sm==3.7.0) (4.8.0)\n",
      "Requirement already satisfied: certifi>=2017.4.17 in ./venv/lib/python3.10/site-packages (from requests<3.0.0,>=2.13.0->spacy<3.8.0,>=3.7.0->pt-core-news-sm==3.7.0) (2023.7.22)\n",
      "Requirement already satisfied: idna<4,>=2.5 in ./venv/lib/python3.10/site-packages (from requests<3.0.0,>=2.13.0->spacy<3.8.0,>=3.7.0->pt-core-news-sm==3.7.0) (3.4)\n",
      "Requirement already satisfied: urllib3<3,>=1.21.1 in ./venv/lib/python3.10/site-packages (from requests<3.0.0,>=2.13.0->spacy<3.8.0,>=3.7.0->pt-core-news-sm==3.7.0) (2.0.7)\n",
      "Requirement already satisfied: charset-normalizer<4,>=2 in ./venv/lib/python3.10/site-packages (from requests<3.0.0,>=2.13.0->spacy<3.8.0,>=3.7.0->pt-core-news-sm==3.7.0) (3.3.0)\n",
      "Requirement already satisfied: confection<1.0.0,>=0.0.1 in ./venv/lib/python3.10/site-packages (from thinc<8.3.0,>=8.1.8->spacy<3.8.0,>=3.7.0->pt-core-news-sm==3.7.0) (0.1.3)\n",
      "Requirement already satisfied: blis<0.8.0,>=0.7.8 in ./venv/lib/python3.10/site-packages (from thinc<8.3.0,>=8.1.8->spacy<3.8.0,>=3.7.0->pt-core-news-sm==3.7.0) (0.7.11)\n",
      "Requirement already satisfied: click<9.0.0,>=7.1.1 in ./venv/lib/python3.10/site-packages (from typer<0.10.0,>=0.3.0->spacy<3.8.0,>=3.7.0->pt-core-news-sm==3.7.0) (8.1.7)\n",
      "Requirement already satisfied: cloudpathlib<0.17.0,>=0.7.0 in ./venv/lib/python3.10/site-packages (from weasel<0.4.0,>=0.1.0->spacy<3.8.0,>=3.7.0->pt-core-news-sm==3.7.0) (0.16.0)\n",
      "Requirement already satisfied: MarkupSafe>=2.0 in ./venv/lib/python3.10/site-packages (from jinja2->spacy<3.8.0,>=3.7.0->pt-core-news-sm==3.7.0) (2.1.3)\n",
      "\u001B[38;5;2m✔ Download and installation successful\u001B[0m\n",
      "You can now load the package via spacy.load('pt_core_news_sm')\n"
     ]
    },
    {
     "name": "stderr",
     "output_type": "stream",
     "text": [
      "[nltk_data] Downloading package omw to /home/tainan-\n",
      "[nltk_data]     santos/nltk_data...\n"
     ]
    },
    {
     "data": {
      "text/plain": "True"
     },
     "execution_count": 28,
     "metadata": {},
     "output_type": "execute_result"
    }
   ]
  },
  {
   "cell_type": "code",
   "source": [
    "pip install spacy-wordnet"
   ],
   "metadata": {
    "id": "8NTjeWgtyWLJ",
    "colab": {
     "base_uri": "https://localhost:8080/"
    },
    "executionInfo": {
     "status": "ok",
     "timestamp": 1696004376977,
     "user_tz": 180,
     "elapsed": 6098,
     "user": {
      "displayName": "Rafael Araujo Tetzner",
      "userId": "13213940784905816753"
     }
    },
    "outputId": "b0117a14-3f24-4141-bfe4-6db741404e83",
    "ExecuteTime": {
     "end_time": "2023-11-04T03:11:04.151426641Z",
     "start_time": "2023-11-04T03:11:02.661775406Z"
    }
   },
   "execution_count": 29,
   "outputs": [
    {
     "name": "stdout",
     "output_type": "stream",
     "text": [
      "Requirement already satisfied: spacy-wordnet in ./venv/lib/python3.10/site-packages (0.1.0)\r\n",
      "Requirement already satisfied: nltk<3.6,>=3.3 in ./venv/lib/python3.10/site-packages (from spacy-wordnet) (3.5)\r\n",
      "Requirement already satisfied: spacy>=2 in ./venv/lib/python3.10/site-packages (from spacy-wordnet) (3.7.2)\r\n",
      "Requirement already satisfied: click in ./venv/lib/python3.10/site-packages (from nltk<3.6,>=3.3->spacy-wordnet) (8.1.7)\r\n",
      "Requirement already satisfied: joblib in ./venv/lib/python3.10/site-packages (from nltk<3.6,>=3.3->spacy-wordnet) (1.3.2)\r\n",
      "Requirement already satisfied: regex in ./venv/lib/python3.10/site-packages (from nltk<3.6,>=3.3->spacy-wordnet) (2023.10.3)\r\n",
      "Requirement already satisfied: tqdm in ./venv/lib/python3.10/site-packages (from nltk<3.6,>=3.3->spacy-wordnet) (4.66.1)\r\n",
      "Requirement already satisfied: packaging>=20.0 in ./venv/lib/python3.10/site-packages (from spacy>=2->spacy-wordnet) (23.2)\r\n",
      "Requirement already satisfied: spacy-legacy<3.1.0,>=3.0.11 in ./venv/lib/python3.10/site-packages (from spacy>=2->spacy-wordnet) (3.0.12)\r\n",
      "Requirement already satisfied: cymem<2.1.0,>=2.0.2 in ./venv/lib/python3.10/site-packages (from spacy>=2->spacy-wordnet) (2.0.8)\r\n",
      "Requirement already satisfied: typer<0.10.0,>=0.3.0 in ./venv/lib/python3.10/site-packages (from spacy>=2->spacy-wordnet) (0.9.0)\r\n",
      "Requirement already satisfied: smart-open<7.0.0,>=5.2.1 in ./venv/lib/python3.10/site-packages (from spacy>=2->spacy-wordnet) (6.4.0)\r\n",
      "Requirement already satisfied: catalogue<2.1.0,>=2.0.6 in ./venv/lib/python3.10/site-packages (from spacy>=2->spacy-wordnet) (2.0.10)\r\n",
      "Requirement already satisfied: murmurhash<1.1.0,>=0.28.0 in ./venv/lib/python3.10/site-packages (from spacy>=2->spacy-wordnet) (1.0.10)\r\n",
      "Requirement already satisfied: wasabi<1.2.0,>=0.9.1 in ./venv/lib/python3.10/site-packages (from spacy>=2->spacy-wordnet) (1.1.2)\r\n",
      "Requirement already satisfied: numpy>=1.19.0 in ./venv/lib/python3.10/site-packages (from spacy>=2->spacy-wordnet) (1.26.1)\r\n",
      "Requirement already satisfied: preshed<3.1.0,>=3.0.2 in ./venv/lib/python3.10/site-packages (from spacy>=2->spacy-wordnet) (3.0.9)\r\n",
      "Requirement already satisfied: jinja2 in ./venv/lib/python3.10/site-packages (from spacy>=2->spacy-wordnet) (3.1.2)\r\n",
      "Requirement already satisfied: thinc<8.3.0,>=8.1.8 in ./venv/lib/python3.10/site-packages (from spacy>=2->spacy-wordnet) (8.2.1)\r\n",
      "Requirement already satisfied: spacy-loggers<2.0.0,>=1.0.0 in ./venv/lib/python3.10/site-packages (from spacy>=2->spacy-wordnet) (1.0.5)\r\n",
      "Requirement already satisfied: pydantic!=1.8,!=1.8.1,<3.0.0,>=1.7.4 in ./venv/lib/python3.10/site-packages (from spacy>=2->spacy-wordnet) (2.4.2)\r\n",
      "Requirement already satisfied: weasel<0.4.0,>=0.1.0 in ./venv/lib/python3.10/site-packages (from spacy>=2->spacy-wordnet) (0.3.3)\r\n",
      "Requirement already satisfied: requests<3.0.0,>=2.13.0 in ./venv/lib/python3.10/site-packages (from spacy>=2->spacy-wordnet) (2.31.0)\r\n",
      "Requirement already satisfied: langcodes<4.0.0,>=3.2.0 in ./venv/lib/python3.10/site-packages (from spacy>=2->spacy-wordnet) (3.3.0)\r\n",
      "Requirement already satisfied: srsly<3.0.0,>=2.4.3 in ./venv/lib/python3.10/site-packages (from spacy>=2->spacy-wordnet) (2.4.8)\r\n",
      "Requirement already satisfied: setuptools in ./venv/lib/python3.10/site-packages (from spacy>=2->spacy-wordnet) (59.6.0)\r\n",
      "Requirement already satisfied: annotated-types>=0.4.0 in ./venv/lib/python3.10/site-packages (from pydantic!=1.8,!=1.8.1,<3.0.0,>=1.7.4->spacy>=2->spacy-wordnet) (0.6.0)\r\n",
      "Requirement already satisfied: pydantic-core==2.10.1 in ./venv/lib/python3.10/site-packages (from pydantic!=1.8,!=1.8.1,<3.0.0,>=1.7.4->spacy>=2->spacy-wordnet) (2.10.1)\r\n",
      "Requirement already satisfied: typing-extensions>=4.6.1 in ./venv/lib/python3.10/site-packages (from pydantic!=1.8,!=1.8.1,<3.0.0,>=1.7.4->spacy>=2->spacy-wordnet) (4.8.0)\r\n",
      "Requirement already satisfied: certifi>=2017.4.17 in ./venv/lib/python3.10/site-packages (from requests<3.0.0,>=2.13.0->spacy>=2->spacy-wordnet) (2023.7.22)\r\n",
      "Requirement already satisfied: urllib3<3,>=1.21.1 in ./venv/lib/python3.10/site-packages (from requests<3.0.0,>=2.13.0->spacy>=2->spacy-wordnet) (2.0.7)\r\n",
      "Requirement already satisfied: charset-normalizer<4,>=2 in ./venv/lib/python3.10/site-packages (from requests<3.0.0,>=2.13.0->spacy>=2->spacy-wordnet) (3.3.0)\r\n",
      "Requirement already satisfied: idna<4,>=2.5 in ./venv/lib/python3.10/site-packages (from requests<3.0.0,>=2.13.0->spacy>=2->spacy-wordnet) (3.4)\r\n",
      "Requirement already satisfied: confection<1.0.0,>=0.0.1 in ./venv/lib/python3.10/site-packages (from thinc<8.3.0,>=8.1.8->spacy>=2->spacy-wordnet) (0.1.3)\r\n",
      "Requirement already satisfied: blis<0.8.0,>=0.7.8 in ./venv/lib/python3.10/site-packages (from thinc<8.3.0,>=8.1.8->spacy>=2->spacy-wordnet) (0.7.11)\r\n",
      "Requirement already satisfied: cloudpathlib<0.17.0,>=0.7.0 in ./venv/lib/python3.10/site-packages (from weasel<0.4.0,>=0.1.0->spacy>=2->spacy-wordnet) (0.16.0)\r\n",
      "Requirement already satisfied: MarkupSafe>=2.0 in ./venv/lib/python3.10/site-packages (from jinja2->spacy>=2->spacy-wordnet) (2.1.3)\r\n",
      "Note: you may need to restart the kernel to use updated packages.\n"
     ]
    }
   ]
  },
  {
   "cell_type": "code",
   "source": [
    "import pandas as pd\n"
   ],
   "metadata": {
    "id": "7_TjfNi9itIl",
    "executionInfo": {
     "status": "ok",
     "timestamp": 1696004376977,
     "user_tz": 180,
     "elapsed": 21,
     "user": {
      "displayName": "Rafael Araujo Tetzner",
      "userId": "13213940784905816753"
     }
    },
    "ExecuteTime": {
     "end_time": "2023-11-04T03:11:04.486190816Z",
     "start_time": "2023-11-04T03:11:04.481549333Z"
    }
   },
   "execution_count": 30,
   "outputs": []
  },
  {
   "cell_type": "code",
   "source": [
    "import spacy\n",
    "import nltk\n",
    "from nltk.corpus import wordnet\n",
    "\n",
    "nltk.download('wordnet')\n",
    "\n",
    "nlp = spacy.load(\"pt_core_news_sm\")\n",
    "\n",
    "def get_synonyms(word):\n",
    "    synonyms = []\n",
    "    for synset in wordnet.synsets(word, lang='por'):\n",
    "        for lemma in synset.lemmas(lang='por'):\n",
    "            synonyms.append(lemma.name())\n",
    "    return synonyms\n",
    "\n",
    "def get_noun_synonyms(sentence):\n",
    "    synonyms_list = []\n",
    "\n",
    "    doc = nlp(sentence)\n",
    "    for token in doc:\n",
    "        # if token.pos_ in ['NOUN', 'VERB', 'ADJ', 'ADV']:  # Filtrar substantivos, verbos, adjetivos e advérbios\n",
    "\n",
    "        if token.pos_ == 'NOUN':  # Filtrar apenas os substantivos\n",
    "            token_synonyms = get_synonyms(token.text.lower())\n",
    "            cleaned_synonyms = [synonym.lower() for synonym in token_synonyms if '_' not in synonym]\n",
    "            unique_synonyms = list(set(cleaned_synonyms))\n",
    "            synonyms_list.extend( unique_synonyms[:3])\n",
    "\n",
    "    synonyms_list = list(set([value.lower() for value in synonyms_list]))\n",
    "    retult =  \" \".join(synonyms_list)\n",
    "    final_values = sentence + \" \"+ retult\n",
    "    return final_values\n",
    "\n",
    "\n"
   ],
   "metadata": {
    "id": "KteO2NPvwgOf",
    "executionInfo": {
     "status": "ok",
     "timestamp": 1696004378194,
     "user_tz": 180,
     "elapsed": 1236,
     "user": {
      "displayName": "Rafael Araujo Tetzner",
      "userId": "13213940784905816753"
     }
    },
    "colab": {
     "base_uri": "https://localhost:8080/"
    },
    "outputId": "2d75880b-aef6-4c7f-b887-4e38703860cf",
    "ExecuteTime": {
     "end_time": "2023-11-04T03:11:05.755141328Z",
     "start_time": "2023-11-04T03:11:05.471876769Z"
    }
   },
   "execution_count": 31,
   "outputs": [
    {
     "name": "stderr",
     "output_type": "stream",
     "text": [
      "[nltk_data] Downloading package wordnet to /home/tainan-\n",
      "[nltk_data]     santos/nltk_data...\n",
      "[nltk_data]   Package wordnet is already up-to-date!\n"
     ]
    }
   ]
  },
  {
   "cell_type": "code",
   "source": [
    "\n",
    "\n",
    "querys =  pd.read_csv('resultados_rm3/rm3_new/result_rm3_ner_crf.csv', delimiter=\",\", encoding=\"utf-8\")\n",
    "querys"
   ],
   "metadata": {
    "id": "vHpALA_s2VUG",
    "colab": {
     "base_uri": "https://localhost:8080/",
     "height": 1000
    },
    "executionInfo": {
     "status": "ok",
     "timestamp": 1696004474254,
     "user_tz": 180,
     "elapsed": 541,
     "user": {
      "displayName": "Rafael Araujo Tetzner",
      "userId": "13213940784905816753"
     }
    },
    "outputId": "b47324a1-1e61-4efe-c911-783abd3482f4",
    "ExecuteTime": {
     "end_time": "2023-11-04T03:11:06.590374795Z",
     "start_time": "2023-11-04T03:11:06.554566315Z"
    }
   },
   "execution_count": 32,
   "outputs": [
    {
     "data": {
      "text/plain": "     Unnamed: 0         numero  \\\n0             0  PEC 151/2019    \n1             1  PL 1036/2019    \n2             2  PL 1037/2019    \n3             3  PL 1075/2019    \n4             4  PL 1076/2019    \n..          ...            ...   \n290         290  PL 914/2019     \n291         291  PL 927/2019     \n292         292  PL 947/2019     \n293         293  PL 993/2019     \n294         294  PL 999/2019     \n\n                                                  text  \\\n0    Solicito a consultoria elaboração de Projeto d...   \n1    tese Conamat (arts. 545, 582 e 602 da CLT     ...   \n2    art. 394-A da CLT - insalubridade trabalhadora...   \n3    Solicito a analise do Projeto de Lei, anexo, p...   \n4    Elaboração de Lei Federal que obrigue todos os...   \n..                                                 ...   \n290  Preparar Projeto de Lei para tratar da destina...   \n291  Obriga as instituições e  comércios a expor os...   \n292  SOLICITO A FEITURA DE UM PROJETO DE LEI QUE PE...   \n293  Solicito reelaboração do PL 10235/2018, para r...   \n294  Solicito a especial gentileza na elaboração de...   \n\n                                             query_exp  \\\n0    Solicito a consultoria elaboração de Projeto d...   \n1    tese Conamat (arts. 545, 582 e 602 da CLT     ...   \n2    art. 394-A da CLT - insalubridade trabalhadora...   \n3    Solicito a analise do Projeto de Lei, anexo, p...   \n4    Elaboração de Lei Federal que obrigue todos os...   \n..                                                 ...   \n290  Preparar Projeto de Lei para tratar da destina...   \n291  Obriga as instituições e  comércios a expor os...   \n292  SOLICITO A FEITURA DE UM PROJETO DE LEI QUE PE...   \n293  Solicito reelaboração do PL 10235/2018, para r...   \n294  Solicito a especial gentileza na elaboração de...   \n\n                                    result_rm3_ner_crf  \n0    Solicito a consultoria elaboração de Projeto d...  \n1    tese Conamat (arts. 545, 582 e 602 da CLT     ...  \n2    art. 394-A da CLT - insalubridade trabalhadora...  \n3    Solicito a analise do Projeto de Lei, anexo, p...  \n4    Elaboração de Lei Federal que obrigue todos os...  \n..                                                 ...  \n290  Preparar Projeto de Lei para tratar da destina...  \n291  Obriga as instituições e  comércios a expor os...  \n292  SOLICITO A FEITURA DE UM PROJETO DE LEI QUE PE...  \n293  Solicito reelaboração do PL 10235/2018, para r...  \n294  Solicito a especial gentileza na elaboração de...  \n\n[295 rows x 5 columns]",
      "text/html": "<div>\n<style scoped>\n    .dataframe tbody tr th:only-of-type {\n        vertical-align: middle;\n    }\n\n    .dataframe tbody tr th {\n        vertical-align: top;\n    }\n\n    .dataframe thead th {\n        text-align: right;\n    }\n</style>\n<table border=\"1\" class=\"dataframe\">\n  <thead>\n    <tr style=\"text-align: right;\">\n      <th></th>\n      <th>Unnamed: 0</th>\n      <th>numero</th>\n      <th>text</th>\n      <th>query_exp</th>\n      <th>result_rm3_ner_crf</th>\n    </tr>\n  </thead>\n  <tbody>\n    <tr>\n      <th>0</th>\n      <td>0</td>\n      <td>PEC 151/2019</td>\n      <td>Solicito a consultoria elaboração de Projeto d...</td>\n      <td>Solicito a consultoria elaboração de Projeto d...</td>\n      <td>Solicito a consultoria elaboração de Projeto d...</td>\n    </tr>\n    <tr>\n      <th>1</th>\n      <td>1</td>\n      <td>PL 1036/2019</td>\n      <td>tese Conamat (arts. 545, 582 e 602 da CLT     ...</td>\n      <td>tese Conamat (arts. 545, 582 e 602 da CLT     ...</td>\n      <td>tese Conamat (arts. 545, 582 e 602 da CLT     ...</td>\n    </tr>\n    <tr>\n      <th>2</th>\n      <td>2</td>\n      <td>PL 1037/2019</td>\n      <td>art. 394-A da CLT - insalubridade trabalhadora...</td>\n      <td>art. 394-A da CLT - insalubridade trabalhadora...</td>\n      <td>art. 394-A da CLT - insalubridade trabalhadora...</td>\n    </tr>\n    <tr>\n      <th>3</th>\n      <td>3</td>\n      <td>PL 1075/2019</td>\n      <td>Solicito a analise do Projeto de Lei, anexo, p...</td>\n      <td>Solicito a analise do Projeto de Lei, anexo, p...</td>\n      <td>Solicito a analise do Projeto de Lei, anexo, p...</td>\n    </tr>\n    <tr>\n      <th>4</th>\n      <td>4</td>\n      <td>PL 1076/2019</td>\n      <td>Elaboração de Lei Federal que obrigue todos os...</td>\n      <td>Elaboração de Lei Federal que obrigue todos os...</td>\n      <td>Elaboração de Lei Federal que obrigue todos os...</td>\n    </tr>\n    <tr>\n      <th>...</th>\n      <td>...</td>\n      <td>...</td>\n      <td>...</td>\n      <td>...</td>\n      <td>...</td>\n    </tr>\n    <tr>\n      <th>290</th>\n      <td>290</td>\n      <td>PL 914/2019</td>\n      <td>Preparar Projeto de Lei para tratar da destina...</td>\n      <td>Preparar Projeto de Lei para tratar da destina...</td>\n      <td>Preparar Projeto de Lei para tratar da destina...</td>\n    </tr>\n    <tr>\n      <th>291</th>\n      <td>291</td>\n      <td>PL 927/2019</td>\n      <td>Obriga as instituições e  comércios a expor os...</td>\n      <td>Obriga as instituições e  comércios a expor os...</td>\n      <td>Obriga as instituições e  comércios a expor os...</td>\n    </tr>\n    <tr>\n      <th>292</th>\n      <td>292</td>\n      <td>PL 947/2019</td>\n      <td>SOLICITO A FEITURA DE UM PROJETO DE LEI QUE PE...</td>\n      <td>SOLICITO A FEITURA DE UM PROJETO DE LEI QUE PE...</td>\n      <td>SOLICITO A FEITURA DE UM PROJETO DE LEI QUE PE...</td>\n    </tr>\n    <tr>\n      <th>293</th>\n      <td>293</td>\n      <td>PL 993/2019</td>\n      <td>Solicito reelaboração do PL 10235/2018, para r...</td>\n      <td>Solicito reelaboração do PL 10235/2018, para r...</td>\n      <td>Solicito reelaboração do PL 10235/2018, para r...</td>\n    </tr>\n    <tr>\n      <th>294</th>\n      <td>294</td>\n      <td>PL 999/2019</td>\n      <td>Solicito a especial gentileza na elaboração de...</td>\n      <td>Solicito a especial gentileza na elaboração de...</td>\n      <td>Solicito a especial gentileza na elaboração de...</td>\n    </tr>\n  </tbody>\n</table>\n<p>295 rows × 5 columns</p>\n</div>"
     },
     "execution_count": 32,
     "metadata": {},
     "output_type": "execute_result"
    }
   ]
  },
  {
   "cell_type": "code",
   "source": [
    "querys['result_rm3_ner_crf_synonymous'] = querys['result_rm3_ner_crf'].apply(get_noun_synonyms)\n",
    "\n",
    "querys.to_csv('resultados_rm3/rm3_new/query_exp_rm3_ner_crf_synonymous.csv', index=False)\n"
   ],
   "metadata": {
    "id": "vzVB6HwT8tp8",
    "colab": {
     "base_uri": "https://localhost:8080/"
    },
    "executionInfo": {
     "status": "ok",
     "timestamp": 1696004571968,
     "user_tz": 180,
     "elapsed": 4515,
     "user": {
      "displayName": "Rafael Araujo Tetzner",
      "userId": "13213940784905816753"
     }
    },
    "outputId": "aae2e4dd-7d0e-4432-cfdc-ace27d2c560c",
    "ExecuteTime": {
     "end_time": "2023-11-04T03:11:12.640904601Z",
     "start_time": "2023-11-04T03:11:08.084461577Z"
    }
   },
   "execution_count": 33,
   "outputs": []
  },
  {
   "cell_type": "code",
   "source": [
    "print(querys['expanded'][0])"
   ],
   "metadata": {
    "colab": {
     "base_uri": "https://localhost:8080/"
    },
    "id": "fcluIlPdwCEg",
    "executionInfo": {
     "status": "ok",
     "timestamp": 1696004708234,
     "user_tz": 180,
     "elapsed": 8,
     "user": {
      "displayName": "Rafael Araujo Tetzner",
      "userId": "13213940784905816753"
     }
    },
    "outputId": "a5b547f9-bf56-4a3e-dd6d-e7d3aae643d6",
    "ExecuteTime": {
     "end_time": "2023-10-22T13:04:38.432751821Z",
     "start_time": "2023-10-22T13:04:37.975298199Z"
    }
   },
   "execution_count": 16,
   "outputs": [
    {
     "ename": "KeyError",
     "evalue": "'expanded'",
     "output_type": "error",
     "traceback": [
      "\u001B[0;31m---------------------------------------------------------------------------\u001B[0m",
      "\u001B[0;31mKeyError\u001B[0m                                  Traceback (most recent call last)",
      "File \u001B[0;32m~/Documentos/PCC_ANALISE/venv/lib/python3.10/site-packages/pandas/core/indexes/base.py:3790\u001B[0m, in \u001B[0;36mIndex.get_loc\u001B[0;34m(self, key)\u001B[0m\n\u001B[1;32m   3789\u001B[0m \u001B[38;5;28;01mtry\u001B[39;00m:\n\u001B[0;32m-> 3790\u001B[0m     \u001B[38;5;28;01mreturn\u001B[39;00m \u001B[38;5;28;43mself\u001B[39;49m\u001B[38;5;241;43m.\u001B[39;49m\u001B[43m_engine\u001B[49m\u001B[38;5;241;43m.\u001B[39;49m\u001B[43mget_loc\u001B[49m\u001B[43m(\u001B[49m\u001B[43mcasted_key\u001B[49m\u001B[43m)\u001B[49m\n\u001B[1;32m   3791\u001B[0m \u001B[38;5;28;01mexcept\u001B[39;00m \u001B[38;5;167;01mKeyError\u001B[39;00m \u001B[38;5;28;01mas\u001B[39;00m err:\n",
      "File \u001B[0;32mindex.pyx:152\u001B[0m, in \u001B[0;36mpandas._libs.index.IndexEngine.get_loc\u001B[0;34m()\u001B[0m\n",
      "File \u001B[0;32mindex.pyx:181\u001B[0m, in \u001B[0;36mpandas._libs.index.IndexEngine.get_loc\u001B[0;34m()\u001B[0m\n",
      "File \u001B[0;32mpandas/_libs/hashtable_class_helper.pxi:7080\u001B[0m, in \u001B[0;36mpandas._libs.hashtable.PyObjectHashTable.get_item\u001B[0;34m()\u001B[0m\n",
      "File \u001B[0;32mpandas/_libs/hashtable_class_helper.pxi:7088\u001B[0m, in \u001B[0;36mpandas._libs.hashtable.PyObjectHashTable.get_item\u001B[0;34m()\u001B[0m\n",
      "\u001B[0;31mKeyError\u001B[0m: 'expanded'",
      "\nThe above exception was the direct cause of the following exception:\n",
      "\u001B[0;31mKeyError\u001B[0m                                  Traceback (most recent call last)",
      "Cell \u001B[0;32mIn[16], line 1\u001B[0m\n\u001B[0;32m----> 1\u001B[0m \u001B[38;5;28mprint\u001B[39m(\u001B[43mquerys\u001B[49m\u001B[43m[\u001B[49m\u001B[38;5;124;43m'\u001B[39;49m\u001B[38;5;124;43mexpanded\u001B[39;49m\u001B[38;5;124;43m'\u001B[39;49m\u001B[43m]\u001B[49m[\u001B[38;5;241m0\u001B[39m])\n",
      "File \u001B[0;32m~/Documentos/PCC_ANALISE/venv/lib/python3.10/site-packages/pandas/core/frame.py:3896\u001B[0m, in \u001B[0;36mDataFrame.__getitem__\u001B[0;34m(self, key)\u001B[0m\n\u001B[1;32m   3894\u001B[0m \u001B[38;5;28;01mif\u001B[39;00m \u001B[38;5;28mself\u001B[39m\u001B[38;5;241m.\u001B[39mcolumns\u001B[38;5;241m.\u001B[39mnlevels \u001B[38;5;241m>\u001B[39m \u001B[38;5;241m1\u001B[39m:\n\u001B[1;32m   3895\u001B[0m     \u001B[38;5;28;01mreturn\u001B[39;00m \u001B[38;5;28mself\u001B[39m\u001B[38;5;241m.\u001B[39m_getitem_multilevel(key)\n\u001B[0;32m-> 3896\u001B[0m indexer \u001B[38;5;241m=\u001B[39m \u001B[38;5;28;43mself\u001B[39;49m\u001B[38;5;241;43m.\u001B[39;49m\u001B[43mcolumns\u001B[49m\u001B[38;5;241;43m.\u001B[39;49m\u001B[43mget_loc\u001B[49m\u001B[43m(\u001B[49m\u001B[43mkey\u001B[49m\u001B[43m)\u001B[49m\n\u001B[1;32m   3897\u001B[0m \u001B[38;5;28;01mif\u001B[39;00m is_integer(indexer):\n\u001B[1;32m   3898\u001B[0m     indexer \u001B[38;5;241m=\u001B[39m [indexer]\n",
      "File \u001B[0;32m~/Documentos/PCC_ANALISE/venv/lib/python3.10/site-packages/pandas/core/indexes/base.py:3797\u001B[0m, in \u001B[0;36mIndex.get_loc\u001B[0;34m(self, key)\u001B[0m\n\u001B[1;32m   3792\u001B[0m     \u001B[38;5;28;01mif\u001B[39;00m \u001B[38;5;28misinstance\u001B[39m(casted_key, \u001B[38;5;28mslice\u001B[39m) \u001B[38;5;129;01mor\u001B[39;00m (\n\u001B[1;32m   3793\u001B[0m         \u001B[38;5;28misinstance\u001B[39m(casted_key, abc\u001B[38;5;241m.\u001B[39mIterable)\n\u001B[1;32m   3794\u001B[0m         \u001B[38;5;129;01mand\u001B[39;00m \u001B[38;5;28many\u001B[39m(\u001B[38;5;28misinstance\u001B[39m(x, \u001B[38;5;28mslice\u001B[39m) \u001B[38;5;28;01mfor\u001B[39;00m x \u001B[38;5;129;01min\u001B[39;00m casted_key)\n\u001B[1;32m   3795\u001B[0m     ):\n\u001B[1;32m   3796\u001B[0m         \u001B[38;5;28;01mraise\u001B[39;00m InvalidIndexError(key)\n\u001B[0;32m-> 3797\u001B[0m     \u001B[38;5;28;01mraise\u001B[39;00m \u001B[38;5;167;01mKeyError\u001B[39;00m(key) \u001B[38;5;28;01mfrom\u001B[39;00m \u001B[38;5;21;01merr\u001B[39;00m\n\u001B[1;32m   3798\u001B[0m \u001B[38;5;28;01mexcept\u001B[39;00m \u001B[38;5;167;01mTypeError\u001B[39;00m:\n\u001B[1;32m   3799\u001B[0m     \u001B[38;5;66;03m# If we have a listlike key, _check_indexing_error will raise\u001B[39;00m\n\u001B[1;32m   3800\u001B[0m     \u001B[38;5;66;03m#  InvalidIndexError. Otherwise we fall through and re-raise\u001B[39;00m\n\u001B[1;32m   3801\u001B[0m     \u001B[38;5;66;03m#  the TypeError.\u001B[39;00m\n\u001B[1;32m   3802\u001B[0m     \u001B[38;5;28mself\u001B[39m\u001B[38;5;241m.\u001B[39m_check_indexing_error(key)\n",
      "\u001B[0;31mKeyError\u001B[0m: 'expanded'"
     ]
    }
   ]
  },
  {
   "cell_type": "code",
   "source": [
    "print(querys['query_exp'][0])"
   ],
   "metadata": {
    "colab": {
     "base_uri": "https://localhost:8080/"
    },
    "id": "-GP5QNS8wMMo",
    "executionInfo": {
     "status": "ok",
     "timestamp": 1696004668855,
     "user_tz": 180,
     "elapsed": 33,
     "user": {
      "displayName": "Rafael Araujo Tetzner",
      "userId": "13213940784905816753"
     }
    },
    "outputId": "24bdcf18-3016-40d8-bce3-2a0a872c67d4"
   },
   "execution_count": 21,
   "outputs": [
    {
     "output_type": "stream",
     "name": "stdout",
     "text": [
      "Solicito a consultoria elaboração de Projeto de lei para garantir a estabilidade da mulher gravida quando esteja em cargo publico comissionado.   Como não é possível impedir a exoneração que já preveja uma indenização no valor da media salarial do ultimo ano durante o período em que está gravida e período da licença maternidade.                                                                                                                                                                                                                                                                                                                                                                                                                                                                                                                                                                                                                                                                                                                                                                                                                                                                                                                                                                                                                                                                                                                                                                                                                                                                                                                                                                                                                                                                                                                                                                                                                                                                                                                                                                                                                                                                                                                                                                                                                                                                                                                                                                                                                                                                                                                                                                                                                                                                                                                                                                                                                                                                                                                                                                                                                                                                                                                                                                                                                                                                                                                                                                                                                                                                                                                                                                                                                                                                                                                           justificação importância dia estabilidade gata exoneração dona jurisprudência leis século consultas idade maternidade consultoria permissão complexidade franguinha operacionalidade sono lei etapa elaboração licenciamentos ano licença valor cargo posição\n"
     ]
    }
   ]
  },
  {
   "cell_type": "code",
   "execution_count": 19,
   "outputs": [
    {
     "data": {
      "text/plain": "     Unnamed: 0           name  \\\n0             0  PEC 151/2019    \n1             1  PL 1036/2019    \n2             2  PL 1037/2019    \n3             3  PL 1075/2019    \n4             4  PL 1076/2019    \n..          ...            ...   \n290         290  PL 914/2019     \n291         291  PL 927/2019     \n292         292  PL 947/2019     \n293         293  PL 993/2019     \n294         294  PL 999/2019     \n\n                                                  text  \\\n0    Solicito a consultoria elaboração de Projeto d...   \n1    tese Conamat (arts. 545, 582 e 602 da CLT     ...   \n2    art. 394-A da CLT - insalubridade trabalhadora...   \n3    Solicito a analise do Projeto de Lei, anexo, p...   \n4    Elaboração de Lei Federal que obrigue todos os...   \n..                                                 ...   \n290  Preparar Projeto de Lei para tratar da destina...   \n291  Obriga as instituições e  comércios a expor os...   \n292  SOLICITO A FEITURA DE UM PROJETO DE LEI QUE PE...   \n293  Solicito reelaboração do PL 10235/2018, para r...   \n294  Solicito a especial gentileza na elaboração de...   \n\n                                             query_exp  \\\n0    Solicito a consultoria elaboração de Projeto d...   \n1    tese Conamat (arts. 545, 582 e 602 da CLT     ...   \n2    art. 394-A da CLT - insalubridade trabalhadora...   \n3    Solicito a analise do Projeto de Lei, anexo, p...   \n4    Elaboração de Lei Federal que obrigue todos os...   \n..                                                 ...   \n290  Preparar Projeto de Lei para tratar da destina...   \n291  Obriga as instituições e  comércios a expor os...   \n292  SOLICITO A FEITURA DE UM PROJETO DE LEI QUE PE...   \n293  Solicito reelaboração do PL 10235/2018, para r...   \n294  Solicito a especial gentileza na elaboração de...   \n\n                                 query_exp_rm3_ner_crf  \\\n0    Solicito a consultoria elaboração de Projeto d...   \n1    tese Conamat (arts. 545, 582 e 602 da CLT     ...   \n2    art. 394-A da CLT - insalubridade trabalhadora...   \n3    Solicito a analise do Projeto de Lei, anexo, p...   \n4    Elaboração de Lei Federal que obrigue todos os...   \n..                                                 ...   \n290  Preparar Projeto de Lei para tratar da destina...   \n291  Obriga as instituições e  comércios a expor os...   \n292  SOLICITO A FEITURA DE UM PROJETO DE LEI QUE PE...   \n293  Solicito reelaboração do PL 10235/2018, para r...   \n294  Solicito a especial gentileza na elaboração de...   \n\n                       query_exp_rm3_ner_crf_sinonimos  \n0    Solicito a consultoria elaboração de Projeto d...  \n1    tese Conamat (arts. 545, 582 e 602 da CLT     ...  \n2    art. 394-A da CLT - insalubridade trabalhadora...  \n3    Solicito a analise do Projeto de Lei, anexo, p...  \n4    Elaboração de Lei Federal que obrigue todos os...  \n..                                                 ...  \n290  Preparar Projeto de Lei para tratar da destina...  \n291  Obriga as instituições e  comércios a expor os...  \n292  SOLICITO A FEITURA DE UM PROJETO DE LEI QUE PE...  \n293  Solicito reelaboração do PL 10235/2018, para r...  \n294  Solicito a especial gentileza na elaboração de...  \n\n[295 rows x 6 columns]",
      "text/html": "<div>\n<style scoped>\n    .dataframe tbody tr th:only-of-type {\n        vertical-align: middle;\n    }\n\n    .dataframe tbody tr th {\n        vertical-align: top;\n    }\n\n    .dataframe thead th {\n        text-align: right;\n    }\n</style>\n<table border=\"1\" class=\"dataframe\">\n  <thead>\n    <tr style=\"text-align: right;\">\n      <th></th>\n      <th>Unnamed: 0</th>\n      <th>name</th>\n      <th>text</th>\n      <th>query_exp</th>\n      <th>query_exp_rm3_ner_crf</th>\n      <th>query_exp_rm3_ner_crf_sinonimos</th>\n    </tr>\n  </thead>\n  <tbody>\n    <tr>\n      <th>0</th>\n      <td>0</td>\n      <td>PEC 151/2019</td>\n      <td>Solicito a consultoria elaboração de Projeto d...</td>\n      <td>Solicito a consultoria elaboração de Projeto d...</td>\n      <td>Solicito a consultoria elaboração de Projeto d...</td>\n      <td>Solicito a consultoria elaboração de Projeto d...</td>\n    </tr>\n    <tr>\n      <th>1</th>\n      <td>1</td>\n      <td>PL 1036/2019</td>\n      <td>tese Conamat (arts. 545, 582 e 602 da CLT     ...</td>\n      <td>tese Conamat (arts. 545, 582 e 602 da CLT     ...</td>\n      <td>tese Conamat (arts. 545, 582 e 602 da CLT     ...</td>\n      <td>tese Conamat (arts. 545, 582 e 602 da CLT     ...</td>\n    </tr>\n    <tr>\n      <th>2</th>\n      <td>2</td>\n      <td>PL 1037/2019</td>\n      <td>art. 394-A da CLT - insalubridade trabalhadora...</td>\n      <td>art. 394-A da CLT - insalubridade trabalhadora...</td>\n      <td>art. 394-A da CLT - insalubridade trabalhadora...</td>\n      <td>art. 394-A da CLT - insalubridade trabalhadora...</td>\n    </tr>\n    <tr>\n      <th>3</th>\n      <td>3</td>\n      <td>PL 1075/2019</td>\n      <td>Solicito a analise do Projeto de Lei, anexo, p...</td>\n      <td>Solicito a analise do Projeto de Lei, anexo, p...</td>\n      <td>Solicito a analise do Projeto de Lei, anexo, p...</td>\n      <td>Solicito a analise do Projeto de Lei, anexo, p...</td>\n    </tr>\n    <tr>\n      <th>4</th>\n      <td>4</td>\n      <td>PL 1076/2019</td>\n      <td>Elaboração de Lei Federal que obrigue todos os...</td>\n      <td>Elaboração de Lei Federal que obrigue todos os...</td>\n      <td>Elaboração de Lei Federal que obrigue todos os...</td>\n      <td>Elaboração de Lei Federal que obrigue todos os...</td>\n    </tr>\n    <tr>\n      <th>...</th>\n      <td>...</td>\n      <td>...</td>\n      <td>...</td>\n      <td>...</td>\n      <td>...</td>\n      <td>...</td>\n    </tr>\n    <tr>\n      <th>290</th>\n      <td>290</td>\n      <td>PL 914/2019</td>\n      <td>Preparar Projeto de Lei para tratar da destina...</td>\n      <td>Preparar Projeto de Lei para tratar da destina...</td>\n      <td>Preparar Projeto de Lei para tratar da destina...</td>\n      <td>Preparar Projeto de Lei para tratar da destina...</td>\n    </tr>\n    <tr>\n      <th>291</th>\n      <td>291</td>\n      <td>PL 927/2019</td>\n      <td>Obriga as instituições e  comércios a expor os...</td>\n      <td>Obriga as instituições e  comércios a expor os...</td>\n      <td>Obriga as instituições e  comércios a expor os...</td>\n      <td>Obriga as instituições e  comércios a expor os...</td>\n    </tr>\n    <tr>\n      <th>292</th>\n      <td>292</td>\n      <td>PL 947/2019</td>\n      <td>SOLICITO A FEITURA DE UM PROJETO DE LEI QUE PE...</td>\n      <td>SOLICITO A FEITURA DE UM PROJETO DE LEI QUE PE...</td>\n      <td>SOLICITO A FEITURA DE UM PROJETO DE LEI QUE PE...</td>\n      <td>SOLICITO A FEITURA DE UM PROJETO DE LEI QUE PE...</td>\n    </tr>\n    <tr>\n      <th>293</th>\n      <td>293</td>\n      <td>PL 993/2019</td>\n      <td>Solicito reelaboração do PL 10235/2018, para r...</td>\n      <td>Solicito reelaboração do PL 10235/2018, para r...</td>\n      <td>Solicito reelaboração do PL 10235/2018, para r...</td>\n      <td>Solicito reelaboração do PL 10235/2018, para r...</td>\n    </tr>\n    <tr>\n      <th>294</th>\n      <td>294</td>\n      <td>PL 999/2019</td>\n      <td>Solicito a especial gentileza na elaboração de...</td>\n      <td>Solicito a especial gentileza na elaboração de...</td>\n      <td>Solicito a especial gentileza na elaboração de...</td>\n      <td>Solicito a especial gentileza na elaboração de...</td>\n    </tr>\n  </tbody>\n</table>\n<p>295 rows × 6 columns</p>\n</div>"
     },
     "execution_count": 19,
     "metadata": {},
     "output_type": "execute_result"
    }
   ],
   "source": [
    "import pandas as pd\n",
    "\n",
    "exp_df = pd.read_csv('query_exp_rm3_ner_crf_sinonimos01.csv')\n",
    "exp_df"
   ],
   "metadata": {
    "collapsed": false,
    "ExecuteTime": {
     "end_time": "2023-10-22T13:27:27.055406030Z",
     "start_time": "2023-10-22T13:27:27.006637389Z"
    }
   }
  },
  {
   "cell_type": "code",
   "execution_count": 21,
   "outputs": [
    {
     "data": {
      "text/plain": "     Unnamed: 0           name  \\\n0             0  PEC 151/2019    \n1             1  PL 1036/2019    \n2             2  PL 1037/2019    \n3             3  PL 1075/2019    \n4             4  PL 1076/2019    \n..          ...            ...   \n290         290  PL 914/2019     \n291         291  PL 927/2019     \n292         292  PL 947/2019     \n293         293  PL 993/2019     \n294         294  PL 999/2019     \n\n                                                  text  \\\n0    Solicito a consultoria elaboração de Projeto d...   \n1    tese Conamat (arts. 545, 582 e 602 da CLT     ...   \n2    art. 394-A da CLT - insalubridade trabalhadora...   \n3    Solicito a analise do Projeto de Lei, anexo, p...   \n4    Elaboração de Lei Federal que obrigue todos os...   \n..                                                 ...   \n290  Preparar Projeto de Lei para tratar da destina...   \n291  Obriga as instituições e  comércios a expor os...   \n292  SOLICITO A FEITURA DE UM PROJETO DE LEI QUE PE...   \n293  Solicito reelaboração do PL 10235/2018, para r...   \n294  Solicito a especial gentileza na elaboração de...   \n\n                                             query_exp  \\\n0    Solicito a consultoria elaboração de Projeto d...   \n1    tese Conamat (arts. 545, 582 e 602 da CLT     ...   \n2    art. 394-A da CLT - insalubridade trabalhadora...   \n3    Solicito a analise do Projeto de Lei, anexo, p...   \n4    Elaboração de Lei Federal que obrigue todos os...   \n..                                                 ...   \n290  Preparar Projeto de Lei para tratar da destina...   \n291  Obriga as instituições e  comércios a expor os...   \n292  SOLICITO A FEITURA DE UM PROJETO DE LEI QUE PE...   \n293  Solicito reelaboração do PL 10235/2018, para r...   \n294  Solicito a especial gentileza na elaboração de...   \n\n                                 query_exp_rm3_ner_crf  \\\n0    Solicito a consultoria elaboração de Projeto d...   \n1    tese Conamat (arts. 545, 582 e 602 da CLT     ...   \n2    art. 394-A da CLT - insalubridade trabalhadora...   \n3    Solicito a analise do Projeto de Lei, anexo, p...   \n4    Elaboração de Lei Federal que obrigue todos os...   \n..                                                 ...   \n290  Preparar Projeto de Lei para tratar da destina...   \n291  Obriga as instituições e  comércios a expor os...   \n292  SOLICITO A FEITURA DE UM PROJETO DE LEI QUE PE...   \n293  Solicito reelaboração do PL 10235/2018, para r...   \n294  Solicito a especial gentileza na elaboração de...   \n\n                       query_exp_rm3_ner_crf_sinonimos  \\\n0    Solicito a consultoria elaboração de Projeto d...   \n1    tese Conamat (arts. 545, 582 e 602 da CLT     ...   \n2    art. 394-A da CLT - insalubridade trabalhadora...   \n3    Solicito a analise do Projeto de Lei, anexo, p...   \n4    Elaboração de Lei Federal que obrigue todos os...   \n..                                                 ...   \n290  Preparar Projeto de Lei para tratar da destina...   \n291  Obriga as instituições e  comércios a expor os...   \n292  SOLICITO A FEITURA DE UM PROJETO DE LEI QUE PE...   \n293  Solicito reelaboração do PL 10235/2018, para r...   \n294  Solicito a especial gentileza na elaboração de...   \n\n                                              mudancas  \n0    [operacionalidade, estação, consultas, utilida...  \n1    [porção, ordem, empregador, dissertação, espéc...  \n2                    [amante, gata, afastamento, moça]  \n3    [aposentação, instrumento, recurso, aposentado...  \n4    [efémero, passageiro, temporário, psique, tute...  \n..                                                 ...  \n290  [povo, resíduo, órgãos, problemas, transito, ó...  \n291  [negócio, tema, transacção, mensagem, tópico, ...  \n292  [concepção, câmpus, polícia, figura, projeto, ...  \n293  [recurso, traseiro, suficiência, nord, adequab...  \n294  [abundancia, força, narcótico, lista, complexi...  \n\n[295 rows x 7 columns]",
      "text/html": "<div>\n<style scoped>\n    .dataframe tbody tr th:only-of-type {\n        vertical-align: middle;\n    }\n\n    .dataframe tbody tr th {\n        vertical-align: top;\n    }\n\n    .dataframe thead th {\n        text-align: right;\n    }\n</style>\n<table border=\"1\" class=\"dataframe\">\n  <thead>\n    <tr style=\"text-align: right;\">\n      <th></th>\n      <th>Unnamed: 0</th>\n      <th>name</th>\n      <th>text</th>\n      <th>query_exp</th>\n      <th>query_exp_rm3_ner_crf</th>\n      <th>query_exp_rm3_ner_crf_sinonimos</th>\n      <th>mudancas</th>\n    </tr>\n  </thead>\n  <tbody>\n    <tr>\n      <th>0</th>\n      <td>0</td>\n      <td>PEC 151/2019</td>\n      <td>Solicito a consultoria elaboração de Projeto d...</td>\n      <td>Solicito a consultoria elaboração de Projeto d...</td>\n      <td>Solicito a consultoria elaboração de Projeto d...</td>\n      <td>Solicito a consultoria elaboração de Projeto d...</td>\n      <td>[operacionalidade, estação, consultas, utilida...</td>\n    </tr>\n    <tr>\n      <th>1</th>\n      <td>1</td>\n      <td>PL 1036/2019</td>\n      <td>tese Conamat (arts. 545, 582 e 602 da CLT     ...</td>\n      <td>tese Conamat (arts. 545, 582 e 602 da CLT     ...</td>\n      <td>tese Conamat (arts. 545, 582 e 602 da CLT     ...</td>\n      <td>tese Conamat (arts. 545, 582 e 602 da CLT     ...</td>\n      <td>[porção, ordem, empregador, dissertação, espéc...</td>\n    </tr>\n    <tr>\n      <th>2</th>\n      <td>2</td>\n      <td>PL 1037/2019</td>\n      <td>art. 394-A da CLT - insalubridade trabalhadora...</td>\n      <td>art. 394-A da CLT - insalubridade trabalhadora...</td>\n      <td>art. 394-A da CLT - insalubridade trabalhadora...</td>\n      <td>art. 394-A da CLT - insalubridade trabalhadora...</td>\n      <td>[amante, gata, afastamento, moça]</td>\n    </tr>\n    <tr>\n      <th>3</th>\n      <td>3</td>\n      <td>PL 1075/2019</td>\n      <td>Solicito a analise do Projeto de Lei, anexo, p...</td>\n      <td>Solicito a analise do Projeto de Lei, anexo, p...</td>\n      <td>Solicito a analise do Projeto de Lei, anexo, p...</td>\n      <td>Solicito a analise do Projeto de Lei, anexo, p...</td>\n      <td>[aposentação, instrumento, recurso, aposentado...</td>\n    </tr>\n    <tr>\n      <th>4</th>\n      <td>4</td>\n      <td>PL 1076/2019</td>\n      <td>Elaboração de Lei Federal que obrigue todos os...</td>\n      <td>Elaboração de Lei Federal que obrigue todos os...</td>\n      <td>Elaboração de Lei Federal que obrigue todos os...</td>\n      <td>Elaboração de Lei Federal que obrigue todos os...</td>\n      <td>[efémero, passageiro, temporário, psique, tute...</td>\n    </tr>\n    <tr>\n      <th>...</th>\n      <td>...</td>\n      <td>...</td>\n      <td>...</td>\n      <td>...</td>\n      <td>...</td>\n      <td>...</td>\n      <td>...</td>\n    </tr>\n    <tr>\n      <th>290</th>\n      <td>290</td>\n      <td>PL 914/2019</td>\n      <td>Preparar Projeto de Lei para tratar da destina...</td>\n      <td>Preparar Projeto de Lei para tratar da destina...</td>\n      <td>Preparar Projeto de Lei para tratar da destina...</td>\n      <td>Preparar Projeto de Lei para tratar da destina...</td>\n      <td>[povo, resíduo, órgãos, problemas, transito, ó...</td>\n    </tr>\n    <tr>\n      <th>291</th>\n      <td>291</td>\n      <td>PL 927/2019</td>\n      <td>Obriga as instituições e  comércios a expor os...</td>\n      <td>Obriga as instituições e  comércios a expor os...</td>\n      <td>Obriga as instituições e  comércios a expor os...</td>\n      <td>Obriga as instituições e  comércios a expor os...</td>\n      <td>[negócio, tema, transacção, mensagem, tópico, ...</td>\n    </tr>\n    <tr>\n      <th>292</th>\n      <td>292</td>\n      <td>PL 947/2019</td>\n      <td>SOLICITO A FEITURA DE UM PROJETO DE LEI QUE PE...</td>\n      <td>SOLICITO A FEITURA DE UM PROJETO DE LEI QUE PE...</td>\n      <td>SOLICITO A FEITURA DE UM PROJETO DE LEI QUE PE...</td>\n      <td>SOLICITO A FEITURA DE UM PROJETO DE LEI QUE PE...</td>\n      <td>[concepção, câmpus, polícia, figura, projeto, ...</td>\n    </tr>\n    <tr>\n      <th>293</th>\n      <td>293</td>\n      <td>PL 993/2019</td>\n      <td>Solicito reelaboração do PL 10235/2018, para r...</td>\n      <td>Solicito reelaboração do PL 10235/2018, para r...</td>\n      <td>Solicito reelaboração do PL 10235/2018, para r...</td>\n      <td>Solicito reelaboração do PL 10235/2018, para r...</td>\n      <td>[recurso, traseiro, suficiência, nord, adequab...</td>\n    </tr>\n    <tr>\n      <th>294</th>\n      <td>294</td>\n      <td>PL 999/2019</td>\n      <td>Solicito a especial gentileza na elaboração de...</td>\n      <td>Solicito a especial gentileza na elaboração de...</td>\n      <td>Solicito a especial gentileza na elaboração de...</td>\n      <td>Solicito a especial gentileza na elaboração de...</td>\n      <td>[abundancia, força, narcótico, lista, complexi...</td>\n    </tr>\n  </tbody>\n</table>\n<p>295 rows × 7 columns</p>\n</div>"
     },
     "execution_count": 21,
     "metadata": {},
     "output_type": "execute_result"
    }
   ],
   "source": [
    "def text_add(row):\n",
    "    text0 = row['query_exp_rm3_ner_crf']    \n",
    "    text1 = row['query_exp_rm3_ner_crf_sinonimos']\n",
    "    return text1.replace(text0, \"\").split()\n",
    "\n",
    "exp_df[\"mudancas\"] = exp_df.apply(text_add, axis=1)\n",
    "exp_df"
   ],
   "metadata": {
    "collapsed": false,
    "ExecuteTime": {
     "end_time": "2023-10-22T13:28:06.235742907Z",
     "start_time": "2023-10-22T13:28:06.187420349Z"
    }
   }
  },
  {
   "cell_type": "code",
   "execution_count": null,
   "outputs": [],
   "source": [],
   "metadata": {
    "collapsed": false
   }
  }
 ]
}
