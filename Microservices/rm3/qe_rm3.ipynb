{
 "cells": [
  {
   "cell_type": "code",
   "execution_count": 92,
   "metadata": {
    "ExecuteTime": {
     "end_time": "2023-10-26T01:06:05.929378384Z",
     "start_time": "2023-10-26T01:06:05.859991377Z"
    },
    "id": "N58ol4s8tZOM",
    "outputId": "7ecfd6c3-9efb-4de0-ff50-80ddb1d3279b"
   },
   "outputs": [],
   "source": [
    "# Comando para indexar os documentos\n",
    "#  python3 -m pyserini.index.lucene   --collection JsonCollection     --generator DefaultLuceneDocumentGenerator      --threads 2         --input /home/tainan-santos/Documentos/PCC_ANALISE/data_json    --index /home/tainan-santos/Documentos/PCC_ANALISE/data_index   --storeDocvectors       --stemmer None      --language pt\n"
   ]
  },
  {
   "cell_type": "code",
   "execution_count": 93,
   "metadata": {
    "ExecuteTime": {
     "end_time": "2023-10-26T01:06:05.931006834Z",
     "start_time": "2023-10-26T01:06:05.893821892Z"
    },
    "id": "kKJazp0xtZOQ"
   },
   "outputs": [],
   "source": [
    "# root = \"/home/tainan/Documentos/PCC_ANALISES/data/data/\"\n",
    "# dataset_corpus = \"base_20230428_douglas.csv\"\n",
    "# dataset_query = \"query_expand_crf_novo_gerado_direto_do_microservoce_base_douglas_versao_final.csv\"\n"
   ]
  },
  {
   "cell_type": "code",
   "execution_count": 94,
   "metadata": {
    "ExecuteTime": {
     "end_time": "2023-10-26T01:06:05.931585880Z",
     "start_time": "2023-10-26T01:06:05.894013736Z"
    },
    "id": "ZBH-8y5rtZOQ"
   },
   "outputs": [],
   "source": [
    "# corpus = pd.read_csv(root + dataset_corpus, delimiter=\",\", encoding=\"utf-8\")\n",
    "# corpus.head(3)"
   ]
  },
  {
   "cell_type": "code",
   "execution_count": 95,
   "metadata": {
    "ExecuteTime": {
     "end_time": "2023-10-26T01:06:05.951572200Z",
     "start_time": "2023-10-26T01:06:05.895717083Z"
    },
    "id": "8it6yiM9tZOR"
   },
   "outputs": [
    {
     "data": {
      "text/html": [
       "<div>\n",
       "<style scoped>\n",
       "    .dataframe tbody tr th:only-of-type {\n",
       "        vertical-align: middle;\n",
       "    }\n",
       "\n",
       "    .dataframe tbody tr th {\n",
       "        vertical-align: top;\n",
       "    }\n",
       "\n",
       "    .dataframe thead th {\n",
       "        text-align: right;\n",
       "    }\n",
       "</style>\n",
       "<table border=\"1\" class=\"dataframe\">\n",
       "  <thead>\n",
       "    <tr style=\"text-align: right;\">\n",
       "      <th></th>\n",
       "      <th>NÚMERO-PROPOSIÇÃOSILEG</th>\n",
       "      <th>TxtAssunto</th>\n",
       "    </tr>\n",
       "  </thead>\n",
       "  <tbody>\n",
       "    <tr>\n",
       "      <th>0</th>\n",
       "      <td>PEC 151/2019</td>\n",
       "      <td>Solicito a consultoria elaboração de Projeto d...</td>\n",
       "    </tr>\n",
       "    <tr>\n",
       "      <th>1</th>\n",
       "      <td>PL 1036/2019</td>\n",
       "      <td>tese Conamat (arts. 545, 582 e 602 da CLT     ...</td>\n",
       "    </tr>\n",
       "    <tr>\n",
       "      <th>2</th>\n",
       "      <td>PL 1037/2019</td>\n",
       "      <td>art. 394-A da CLT - insalubridade trabalhadora...</td>\n",
       "    </tr>\n",
       "    <tr>\n",
       "      <th>3</th>\n",
       "      <td>PL 1075/2019</td>\n",
       "      <td>Solicito a analise do Projeto de Lei, anexo, p...</td>\n",
       "    </tr>\n",
       "    <tr>\n",
       "      <th>4</th>\n",
       "      <td>PL 1076/2019</td>\n",
       "      <td>Elaboração de Lei Federal que obrigue todos os...</td>\n",
       "    </tr>\n",
       "    <tr>\n",
       "      <th>...</th>\n",
       "      <td>...</td>\n",
       "      <td>...</td>\n",
       "    </tr>\n",
       "    <tr>\n",
       "      <th>290</th>\n",
       "      <td>PL 914/2019</td>\n",
       "      <td>Preparar Projeto de Lei para tratar da destina...</td>\n",
       "    </tr>\n",
       "    <tr>\n",
       "      <th>291</th>\n",
       "      <td>PL 927/2019</td>\n",
       "      <td>Obriga as instituições e  comércios a expor os...</td>\n",
       "    </tr>\n",
       "    <tr>\n",
       "      <th>292</th>\n",
       "      <td>PL 947/2019</td>\n",
       "      <td>SOLICITO A FEITURA DE UM PROJETO DE LEI QUE PE...</td>\n",
       "    </tr>\n",
       "    <tr>\n",
       "      <th>293</th>\n",
       "      <td>PL 993/2019</td>\n",
       "      <td>Solicito reelaboração do PL 10235/2018, para r...</td>\n",
       "    </tr>\n",
       "    <tr>\n",
       "      <th>294</th>\n",
       "      <td>PL 999/2019</td>\n",
       "      <td>Solicito a especial gentileza na elaboração de...</td>\n",
       "    </tr>\n",
       "  </tbody>\n",
       "</table>\n",
       "<p>295 rows × 2 columns</p>\n",
       "</div>"
      ],
      "text/plain": [
       "    NÚMERO-PROPOSIÇÃOSILEG                                         TxtAssunto\n",
       "0            PEC 151/2019   Solicito a consultoria elaboração de Projeto d...\n",
       "1            PL 1036/2019   tese Conamat (arts. 545, 582 e 602 da CLT     ...\n",
       "2            PL 1037/2019   art. 394-A da CLT - insalubridade trabalhadora...\n",
       "3            PL 1075/2019   Solicito a analise do Projeto de Lei, anexo, p...\n",
       "4            PL 1076/2019   Elaboração de Lei Federal que obrigue todos os...\n",
       "..                     ...                                                ...\n",
       "290          PL 914/2019    Preparar Projeto de Lei para tratar da destina...\n",
       "291          PL 927/2019    Obriga as instituições e  comércios a expor os...\n",
       "292          PL 947/2019    SOLICITO A FEITURA DE UM PROJETO DE LEI QUE PE...\n",
       "293          PL 993/2019    Solicito reelaboração do PL 10235/2018, para r...\n",
       "294          PL 999/2019    Solicito a especial gentileza na elaboração de...\n",
       "\n",
       "[295 rows x 2 columns]"
      ]
     },
     "execution_count": 95,
     "metadata": {},
     "output_type": "execute_result"
    }
   ],
   "source": [
    "import pandas as pd\n",
    "\n",
    "querys = pd.read_csv(\"./data/dados-conle-anonimizado-assunto-notnull.csv\", delimiter=\";\", encoding=\"utf-8\")\n",
    "querys"
   ]
  },
  {
   "cell_type": "markdown",
   "metadata": {
    "collapsed": false,
    "id": "CxCFuqPStZOR"
   },
   "source": [
    "## RM3"
   ]
  },
  {
   "cell_type": "code",
   "execution_count": 96,
   "metadata": {
    "ExecuteTime": {
     "end_time": "2023-10-26T01:06:05.951838558Z",
     "start_time": "2023-10-26T01:06:05.937699889Z"
    },
    "id": "Pc93QBR9tZOR"
   },
   "outputs": [],
   "source": [
    "from pyserini.search import LuceneSearcher\n",
    "\n",
    "index_path = './data_index'\n",
    "searcher = LuceneSearcher(index_path)\n",
    "searcher.set_rm3(10, 10, 0.5)\n",
    "\n",
    "\n",
    "def rm3_query_expansion(query):\n",
    "    hits = searcher.search(query)\n",
    "    num_results = min(10, len(hits))\n",
    "\n",
    "    if num_results > 0:\n",
    "        feedback_term = searcher.get_feedback_terms(query)\n",
    "\n",
    "        sorted_terms = sorted(feedback_term.items(), key=lambda x: x[1], reverse=True)\n",
    "        result = [term for term, relevance in sorted_terms]\n",
    "        expanded_query = query + ' ' + ' '.join(result)\n",
    "        return expanded_query\n",
    "\n",
    "    return query"
   ]
  },
  {
   "cell_type": "code",
   "execution_count": 97,
   "metadata": {
    "ExecuteTime": {
     "end_time": "2023-10-26T01:06:16.839236271Z",
     "start_time": "2023-10-26T01:06:05.937981765Z"
    },
    "id": "I2RtE64ktZOS"
   },
   "outputs": [],
   "source": [
    "querys['query_exp'] = querys['TxtAssunto'].apply(rm3_query_expansion)\n"
   ]
  },
  {
   "cell_type": "code",
   "execution_count": 98,
   "metadata": {
    "ExecuteTime": {
     "end_time": "2023-10-26T01:06:16.885837580Z",
     "start_time": "2023-10-26T01:06:16.885596728Z"
    },
    "id": "7Yshr8JCtZOS"
   },
   "outputs": [],
   "source": [
    "querys = querys[['NÚMERO-PROPOSIÇÃOSILEG', 'TxtAssunto', 'query_exp']]\n",
    "querys = querys.rename(columns={\"NÚMERO-PROPOSIÇÃOSILEG\": \"numero\", \"TxtAssunto\": \"text\", \"query_exp\": \"query_exp\"})"
   ]
  },
  {
   "cell_type": "code",
   "execution_count": 99,
   "metadata": {
    "ExecuteTime": {
     "end_time": "2023-10-26T01:06:16.886001105Z",
     "start_time": "2023-10-26T01:06:16.885745968Z"
    },
    "id": "yYM__fcBtZOS"
   },
   "outputs": [],
   "source": [
    "querys.to_csv('resultados_rm3/rm3_new/result_rm3_analise_so_com_feedback_terms01.csv', index=False)"
   ]
  }
 ],
 "metadata": {
  "colab": {
   "provenance": []
  },
  "kernelspec": {
   "display_name": "Python 3 (ipykernel)",
   "language": "python",
   "name": "python3"
  }
 },
 "nbformat": 4,
 "nbformat_minor": 0
}
